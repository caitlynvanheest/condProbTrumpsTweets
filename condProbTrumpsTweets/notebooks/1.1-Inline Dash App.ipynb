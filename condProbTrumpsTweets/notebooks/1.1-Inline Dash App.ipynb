{
 "cells": [
  {
   "cell_type": "markdown",
   "metadata": {
    "ExecuteTime": {
     "end_time": "2021-01-13T05:46:33.709446Z",
     "start_time": "2021-01-13T05:46:33.703097Z"
    }
   },
   "source": [
    "# Inline Dash App\n",
    "We could host it somewhere but that seems like a bit of a pain so why not just render it inline?"
   ]
  },
  {
   "cell_type": "code",
   "execution_count": 22,
   "metadata": {
    "ExecuteTime": {
     "end_time": "2021-01-13T07:06:10.600522Z",
     "start_time": "2021-01-13T07:06:09.557051Z"
    },
    "scrolled": false
   },
   "outputs": [
    {
     "data": {
      "text/html": [
       "\n",
       "        <iframe\n",
       "            width=\"100%\"\n",
       "            height=\"650\"\n",
       "            src=\"http://127.0.0.1:8050/\"\n",
       "            frameborder=\"0\"\n",
       "            allowfullscreen\n",
       "        ></iframe>\n",
       "        "
      ],
      "text/plain": [
       "<IPython.lib.display.IFrame at 0x11e8d9f70>"
      ]
     },
     "metadata": {},
     "output_type": "display_data"
    }
   ],
   "source": [
    "import pandas as pd\n",
    "import plotly.express as px\n",
    "from jupyter_dash import JupyterDash\n",
    "import dash_core_components as dcc\n",
    "import dash_html_components as html\n",
    "from dash.dependencies import Input, Output\n",
    "\n",
    "rootDf = pd.read_csv('../data/processed/rootDf.csv')\n",
    "tweets = pd.read_csv('../data/processed/tweetsDf.csv')\n",
    "tweets.dropna(how='any', inplace=True)\n",
    "\n",
    "dashWords = []\n",
    "\n",
    "# open file and read the content in a list\n",
    "with open('../data/processed/listfile.txt', 'r') as filehandle:\n",
    "    for line in filehandle:\n",
    "        # remove linebreak which is the last character of the string\n",
    "        word = line[:-1]\n",
    "        # add item to the list\n",
    "        dashWords.append(word)\n",
    "\n",
    "# Load Data\n",
    "df = rootDf\n",
    "words = sorted(rootDf['word'].unique())\n",
    "frequenciesDf = tweets.copy()\n",
    "\n",
    "for dashword in dashWords:\n",
    "    frequenciesDf[dashword] = frequenciesDf['cleanString'].apply(\n",
    "        lambda x: dashword in x)\n",
    "\n",
    "# Build App\n",
    "app = JupyterDash(__name__)\n",
    "\n",
    "app.layout = html.Div([\n",
    "    html.H2('DJT Tweets: What else is he talking about'),\n",
    "    html.\n",
    "    H3('Select a word to see what other words occur most often with your selection among his tweets'\n",
    "       ),\n",
    "    dcc.Dropdown(\n",
    "        id=\"dropdown\",\n",
    "        options=[{\n",
    "            \"label\": x,\n",
    "            \"value\": x\n",
    "        } for x in words],\n",
    "        value=words[0],\n",
    "        clearable=False,\n",
    "    ),\n",
    "    dcc.Graph(id=\"bar-chart\"),\n",
    "    dcc.Graph(id=\"line-chart\")\n",
    "],\n",
    "                      id='container')\n",
    "\n",
    "\n",
    "@app.callback([Output(\"bar-chart\", \"figure\"),\n",
    "               Output(\"line-chart\", 'figure')], [Input(\"dropdown\", \"value\")])\n",
    "# create both figures to be passed in the return statement\n",
    "# both figures are updated using the @app.callback path and the word dropdown\n",
    "def multi_output(word):\n",
    "\n",
    "    # narrow the pre-assembled dataframe for the word in question\n",
    "    mask = df[\"word\"] == word\n",
    "\n",
    "    # generate first figure\n",
    "    fig1 = px.bar(df[mask].sort_values(by='Percent Co-Occurrence',\n",
    "                                       ascending=True),\n",
    "                  y=\"Co-Occurring Word\",\n",
    "                  x=\"Percent Co-Occurrence\",\n",
    "                  orientation='h',\n",
    "                  height=400,\n",
    "                  width=900)\n",
    "\n",
    "    fig1.update_layout(title='Words most commonly seen with {}'.format(word),\n",
    "                       showlegend=False,\n",
    "                       font_size=8)\n",
    "\n",
    "    fig1.update\n",
    "\n",
    "    # figure 2: word-in-tweet frequency by day\n",
    "    # using pre-calculated dataframe with bool cols for each word in dashWords...\n",
    "    # group df by date and take the sum of the boolean word column\n",
    "    dailyFrequency = frequenciesDf.groupby(by='date')[word].sum()\n",
    "\n",
    "    # fig 2: line plot\n",
    "    fig2 = px.line(dailyFrequency, height=250, width=900)\n",
    "\n",
    "    fig2.update_layout(\n",
    "        title='Daily Tweets by @realDonaldTrump containing: {}'.format(word),\n",
    "        xaxis_title='Date',\n",
    "        yaxis_title='Count of Tweets',\n",
    "        showlegend=False)\n",
    "\n",
    "    fig2.update\n",
    "\n",
    "    return fig1, fig2\n",
    "\n",
    "\n",
    "app.run_server(mode='inline')"
   ]
  }
 ],
 "metadata": {
  "kernelspec": {
   "display_name": "Python 3",
   "language": "python",
   "name": "python3"
  },
  "language_info": {
   "codemirror_mode": {
    "name": "ipython",
    "version": 3
   },
   "file_extension": ".py",
   "mimetype": "text/x-python",
   "name": "python",
   "nbconvert_exporter": "python",
   "pygments_lexer": "ipython3",
   "version": "3.8.2"
  },
  "toc": {
   "base_numbering": 1,
   "nav_menu": {},
   "number_sections": true,
   "sideBar": true,
   "skip_h1_title": false,
   "title_cell": "Table of Contents",
   "title_sidebar": "Contents",
   "toc_cell": false,
   "toc_position": {},
   "toc_section_display": true,
   "toc_window_display": false
  }
 },
 "nbformat": 4,
 "nbformat_minor": 4
}
